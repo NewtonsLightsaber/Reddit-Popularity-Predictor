{
 "cells": [
  {
   "cell_type": "markdown",
   "metadata": {
    "collapsed": true
   },
   "source": [
    "# Task 3: Run Experiments "
   ]
  },
  {
   "cell_type": "markdown",
   "metadata": {},
   "source": [
    "1. Compare runtime, stability and performance of the closed-form linear regression and gradient descent approaches. \n",
    "For three experiments, it is fine to ignore the text features and only use the 3 simple features we provide. \n",
    "For gradient descent make sure you try our different learning rates and initializations."
   ]
  },
  {
   "cell_type": "markdown",
   "metadata": {},
   "source": [
    "With three feature only (\"children\", \"is_root\" and \"controversiality\")\n",
    " hparams = {\n",
    "        'w_0': np.zeros((X_train.shape[1], 1)),\n",
    "        'beta': 1e-7\n",
    "        'eta_0': 1e-6\n",
    "        'eps': 1e-6,\n",
    "    }"
   ]
  },
  {
   "cell_type": "markdown",
   "metadata": {},
   "source": [
    "Training:\n",
    "\n",
    "closed form mse: 1.0846830709157251\n",
    "\n",
    "runtime: 837 microseconds\n",
    "\n",
    "\n",
    "\n",
    "gradiant descent: \n",
    "\n",
    "iterations = 255056\n",
    "\n",
    "mse: 1.2952009629171830\n",
    "\n",
    "runtime: 378841 microseconds"
   ]
  },
  {
   "cell_type": "markdown",
   "metadata": {},
   "source": [
    "% closed-form and gradiant descent should be identical in perfect\n",
    "\n",
    "% use closed-form as ref point\n",
    "\n",
    "eps -> 1e -7;\n",
    "grad_des -> NA"
   ]
  },
  {
   "cell_type": "markdown",
   "metadata": {},
   "source": [
    "feed 160 features:\n",
    "\n",
    "loss = 0.0000041563093771 when i = 3000+\n"
   ]
  },
  {
   "cell_type": "code",
   "execution_count": null,
   "metadata": {},
   "outputs": [],
   "source": []
  }
 ],
 "metadata": {
  "kernelspec": {
   "display_name": "Python 2",
   "language": "python",
   "name": "python2"
  },
  "language_info": {
   "codemirror_mode": {
    "name": "ipython",
    "version": 2
   },
   "file_extension": ".py",
   "mimetype": "text/x-python",
   "name": "python",
   "nbconvert_exporter": "python",
   "pygments_lexer": "ipython2",
   "version": "2.7.6"
  }
 },
 "nbformat": 4,
 "nbformat_minor": 0
}
